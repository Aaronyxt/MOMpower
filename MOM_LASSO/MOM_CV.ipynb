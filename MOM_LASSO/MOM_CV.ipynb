{
 "cells": [
  {
   "cell_type": "markdown",
   "metadata": {},
   "source": [
    "# MOM-CV\n",
    "Adaptive choice of number of blocks and regularization parameter for the MOM estimator (via ADMM)."
   ]
  },
  {
   "cell_type": "code",
   "execution_count": 1,
   "metadata": {
    "collapsed": false
   },
   "outputs": [
    {
     "name": "stdout",
     "output_type": "stream",
     "text": [
      "Importing Jupyter notebook from MOM_LASSO.ipynb\n"
     ]
    }
   ],
   "source": [
    "import nbimporter\n",
    "import MOM_LASSO as MOM_LASSO \n",
    "\n",
    "import numpy as np\n",
    "from numpy.random import multivariate_normal, randn\n",
    "from numpy.linalg import norm\n",
    "from numpy import sqrt\n",
    "from scipy.linalg import svd\n",
    "from scipy.linalg.special_matrices import toeplitz\n",
    "from scipy import linalg\n",
    "import matplotlib.pylab as plt\n",
    "import time\n",
    "from sklearn.utils import shuffle\n",
    "\n",
    "np.set_printoptions(precision=2)\n",
    "%matplotlib inline\n",
    "%load_ext autoreload"
   ]
  },
  {
   "cell_type": "code",
   "execution_count": 2,
   "metadata": {
    "collapsed": false
   },
   "outputs": [
    {
     "ename": "SyntaxError",
     "evalue": "invalid syntax (<ipython-input-2-e49d01f4a9e4>, line 1)",
     "output_type": "error",
     "traceback": [
      "\u001b[0;36m  File \u001b[0;32m\"<ipython-input-2-e49d01f4a9e4>\"\u001b[0;36m, line \u001b[0;32m1\u001b[0m\n\u001b[0;31m    ind = [1:4]\u001b[0m\n\u001b[0m            ^\u001b[0m\n\u001b[0;31mSyntaxError\u001b[0m\u001b[0;31m:\u001b[0m invalid syntax\n"
     ]
    }
   ],
   "source": []
  },
  {
   "cell_type": "code",
   "execution_count": 2,
   "metadata": {
    "collapsed": false
   },
   "outputs": [],
   "source": [
    "N, n_features, sparsity, sigma = 100, 30, 10, 0\n",
    "np.random.seed(50)\n",
    "\n",
    "beta_0 = MOM_LASSO.beta_func(n_features, sparsity)\n",
    "y, X = MOM_LASSO.data1(N, beta_0, sigma)\n",
    "\n",
    "beta_0 = np.matrix(beta_0).T\n",
    "y = np.matrix(y).T\n",
    "X = np.matrix(X)"
   ]
  },
  {
   "cell_type": "code",
   "execution_count": 3,
   "metadata": {
    "collapsed": false
   },
   "outputs": [
    {
     "data": {
      "text/plain": [
       "<matplotlib.text.Text at 0x10f06d7b8>"
      ]
     },
     "execution_count": 3,
     "metadata": {},
     "output_type": "execute_result"
    },
    {
     "data": {
      "image/png": "[encoded data removed]",
      "text/plain": [
       "<matplotlib.figure.Figure at 0x104122b70>"
      ]
     },
     "metadata": {},
     "output_type": "display_data"
    }
   ],
   "source": [
    "plt.figure(figsize = (15, 4))\n",
    "plt.stem(beta_0, markerfmt='ro', label='true')\n",
    "plt.title('A sparse signal')"
   ]
  },
  {
   "cell_type": "markdown",
   "metadata": {},
   "source": [
    "## Construction of training / test sets"
   ]
  },
  {
   "cell_type": "code",
   "execution_count": 4,
   "metadata": {
    "collapsed": false
   },
   "outputs": [],
   "source": [
    "def cv_data(X, y, V, ind_split = 1):\n",
    "    N = y.size\n",
    "    ind = np.arange(ind_split*int(N/V), (ind_split+1)*int(N/V))\n",
    "    return np.delete(X, ind, axis = 0), np.delete(y, ind, axis = 0), X[ind], y[ind]"
   ]
  },
  {
   "cell_type": "code",
   "execution_count": 5,
   "metadata": {
    "collapsed": false
   },
   "outputs": [],
   "source": [
    "X_train, y_train, X_test, y_test = cv_data(X, y, 5, 4)"
   ]
  },
  {
   "cell_type": "markdown",
   "metadata": {},
   "source": [
    "## Construction of the MOM-cv matrix criterium (xaxis $K$ and yaxis $\\lambda$)"
   ]
  },
  {
   "cell_type": "code",
   "execution_count": 6,
   "metadata": {
    "collapsed": true
   },
   "outputs": [],
   "source": [
    "def block_cv(X_test, y_test, x, K_prime):\n",
    "    vect_means = []\n",
    "    N = y_test.size\n",
    "    for k in np.arange(0, K_prime):\n",
    "        Xk, yk = X_test[k*int(N/K_prime):(k+1)*int(N/K_prime)], y_test[k*int(N/K_prime):(k +1)*int(N/K_prime)]\n",
    "        excess_loss_k = linalg.norm(Xk.dot(x) - yk) ** 2\n",
    "        vect_means.append(excess_loss_k)\n",
    "    idx_med = MOM_LASSO.median_index(vect_means)\n",
    "    #print(idx_med)\n",
    "    return X_test[idx_med*int(N/K_prime):(idx_med+1)*int(N/K_prime)], y_test[idx_med*int(N/K_prime):(idx_med+1)]"
   ]
  },
  {
   "cell_type": "code",
   "execution_count": 7,
   "metadata": {
    "collapsed": false
   },
   "outputs": [],
   "source": [
    "def mom_cv_admm(X, y, beta_0, max_iter, V, K_prime, grid_K, grid_lamda = [1]):\n",
    "    N = y.size\n",
    "    cv_error_lamda_K = np.zeros((grid_lamda.size, grid_K.size))\n",
    "    ind_lamda = 0\n",
    "    for lamda in grid_lamda:\n",
    "        ind_K = 0\n",
    "        for K in grid_K:\n",
    "            print('----------lamda = {} --------K = {}'.format(lamda, K))\n",
    "            cv_error = []\n",
    "            for ind_split in np.arange(0, V):\n",
    "                X_train, y_train, X_test, y_test = cv_data(X, y, V, ind_split)\n",
    "                _, _, mom_x_admm = MOM_LASSO.MOM_ADMM(X_train, y_train, beta_0, K, max_iter, lamda)\n",
    "                Xk_test, yk_test = block_cv(X_test, y_test, mom_x_admm, K_prime)\n",
    "                r = Xk_test*mom_x_admm - yk_test\n",
    "                #print('------r = {}'.format(r))\n",
    "                cv_error.append(np.linalg.norm(r))\n",
    "            cv_error_lamda_K[ind_lamda, ind_K] = np.median(cv_error)\n",
    "            print('-----cv_error_lamda_K = {}'.format(np.median(cv_error)))\n",
    "            ind_K = ind_K + 1\n",
    "        ind_lamda = ind_lamda + 1\n",
    "    return cv_error_lamda_K"
   ]
  },
  {
   "cell_type": "code",
   "execution_count": 8,
   "metadata": {
    "collapsed": false
   },
   "outputs": [
    {
     "name": "stdout",
     "output_type": "stream",
     "text": [
      "----------lamda = 0.0 --------K = 1\n",
      "-----cv_error_lamda_K = 3.118126145114878e-14\n",
      "----------lamda = 0.0 --------K = 6\n",
      "-----cv_error_lamda_K = 1.3801724327825164\n",
      "----------lamda = 0.0 --------K = 11\n",
      "-----cv_error_lamda_K = 25.873638634514496\n",
      "----------lamda = 0.0 --------K = 16\n",
      "-----cv_error_lamda_K = 27.413276921878047\n",
      "----------lamda = 0.1 --------K = 1\n",
      "-----cv_error_lamda_K = 0.015324535904190773\n",
      "----------lamda = 0.1 --------K = 6\n",
      "-----cv_error_lamda_K = 0.5789781733150562\n",
      "----------lamda = 0.1 --------K = 11\n",
      "-----cv_error_lamda_K = 9.430037242396274\n",
      "----------lamda = 0.1 --------K = 16\n",
      "-----cv_error_lamda_K = 21.949699891268477\n",
      "----------lamda = 0.2 --------K = 1\n",
      "-----cv_error_lamda_K = 0.030649993401835628\n",
      "----------lamda = 0.2 --------K = 6\n",
      "-----cv_error_lamda_K = 1.136905377222595\n",
      "----------lamda = 0.2 --------K = 11\n",
      "-----cv_error_lamda_K = 15.837219125764518\n",
      "----------lamda = 0.2 --------K = 16\n",
      "-----cv_error_lamda_K = 12.167942927948385\n",
      "----------lamda = 0.3 --------K = 1\n",
      "-----cv_error_lamda_K = 0.045971547999974015\n",
      "----------lamda = 0.3 --------K = 6\n",
      "-----cv_error_lamda_K = 1.744442452943138\n",
      "----------lamda = 0.3 --------K = 11\n",
      "-----cv_error_lamda_K = 2.714148273912816\n",
      "----------lamda = 0.3 --------K = 16\n",
      "-----cv_error_lamda_K = 6.898627172338148\n",
      "----------lamda = 0.4 --------K = 1\n",
      "-----cv_error_lamda_K = 0.061297117152909544\n",
      "----------lamda = 0.4 --------K = 6\n",
      "-----cv_error_lamda_K = 1.7469883778415822\n",
      "----------lamda = 0.4 --------K = 11\n",
      "-----cv_error_lamda_K = 3.2931627381425357\n",
      "----------lamda = 0.4 --------K = 16\n",
      "-----cv_error_lamda_K = 7.465593914811487\n",
      "----------lamda = 0.5 --------K = 1\n",
      "-----cv_error_lamda_K = 0.076618739822673\n",
      "----------lamda = 0.5 --------K = 6\n",
      "-----cv_error_lamda_K = 2.2874512141041246\n",
      "----------lamda = 0.5 --------K = 11\n",
      "-----cv_error_lamda_K = 3.692226591461136\n",
      "----------lamda = 0.5 --------K = 16\n",
      "-----cv_error_lamda_K = 8.661646467076755\n",
      "----------lamda = 0.6 --------K = 1\n",
      "-----cv_error_lamda_K = 0.09193436964459303\n",
      "----------lamda = 0.6 --------K = 6\n",
      "-----cv_error_lamda_K = 2.623226142779886\n",
      "----------lamda = 0.6 --------K = 11\n",
      "-----cv_error_lamda_K = 4.664963917344192\n",
      "----------lamda = 0.6 --------K = 16\n",
      "-----cv_error_lamda_K = 6.5246715370457045\n",
      "----------lamda = 0.7 --------K = 1\n",
      "-----cv_error_lamda_K = 0.10724168893346092\n",
      "----------lamda = 0.7 --------K = 6\n",
      "-----cv_error_lamda_K = 3.048296748716776\n",
      "----------lamda = 0.7 --------K = 11\n",
      "-----cv_error_lamda_K = 4.785726302339184\n",
      "----------lamda = 0.7 --------K = 16\n",
      "-----cv_error_lamda_K = 8.450017723269317\n",
      "----------lamda = 0.8 --------K = 1\n",
      "-----cv_error_lamda_K = 0.12254977861843445\n",
      "----------lamda = 0.8 --------K = 6\n",
      "-----cv_error_lamda_K = 2.6576587613913096\n",
      "----------lamda = 0.8 --------K = 11\n",
      "-----cv_error_lamda_K = 4.16867916381244\n",
      "----------lamda = 0.8 --------K = 16\n",
      "-----cv_error_lamda_K = 9.846663771985495\n",
      "----------lamda = 0.9 --------K = 1\n",
      "-----cv_error_lamda_K = 0.13785719649599804\n",
      "----------lamda = 0.9 --------K = 6\n",
      "-----cv_error_lamda_K = 4.093370784813991\n",
      "----------lamda = 0.9 --------K = 11\n",
      "-----cv_error_lamda_K = 4.9402585327222\n",
      "----------lamda = 0.9 --------K = 16\n",
      "-----cv_error_lamda_K = 12.671180600617442\n"
     ]
    }
   ],
   "source": [
    "grid_lamda = np.arange(0, 10, 1)/sqrt(N)\n",
    "grid_K = np.arange(1, int(N/5), 5)\n",
    "max_iter, V, K_prime = 100, 5, 3\n",
    "perf = mom_cv_admm(X, y, beta_0, max_iter, V, K_prime, grid_K, grid_lamda)"
   ]
  },
  {
   "cell_type": "code",
   "execution_count": 9,
   "metadata": {
    "collapsed": false
   },
   "outputs": [
    {
     "data": {
      "text/plain": [
       "<matplotlib.text.Text at 0x114548da0>"
      ]
     },
     "execution_count": 9,
     "metadata": {},
     "output_type": "execute_result"
    },
    {
     "data": {
      "image/png": "[encoded data removed]",
      "text/plain": [
       "<matplotlib.figure.Figure at 0x1144cfa90>"
      ]
     },
     "metadata": {},
     "output_type": "display_data"
    }
   ],
   "source": [
    "plt.figure(figsize = (10, 10))\n",
    "K_min, K_max, lamda_min, lamda_max = np.min(grid_K), np.max(grid_K), np.min(grid_lamda), np.max(grid_lamda)\n",
    "fig = plt.imshow(perf, interpolation=\"none\", aspect='auto', origin = 'lower', extent=[K_min, K_max, lamda_min, lamda_max])\n",
    "plt.colorbar()\n",
    "plt.axis('on')\n",
    "plt.xticks(grid_K)\n",
    "plt.yticks(grid_lamda)\n",
    "#titre = \"Gaussian measurements\"\n",
    "#plt.title(titre)\n",
    "plt.ylabel('lambda')\n",
    "plt.xlabel('number of blocks K')\n",
    "titre = 'heatmap_mom_cv_N{}_d{}_s{}_sigma{}_no_outliers.png'.format(N, n_features, sparsity, sigma)\n",
    "plt.title(titre)\n",
    "#plt.savefig(titre)"
   ]
  },
  {
   "cell_type": "markdown",
   "metadata": {
    "collapsed": true
   },
   "source": [
    "## Choice of $K$ and $\\lambda$"
   ]
  },
  {
   "cell_type": "code",
   "execution_count": 8,
   "metadata": {
    "collapsed": true
   },
   "outputs": [],
   "source": [
    "def ind_K_lamda(cv_error_lamda_K, grid_K, grid_lamda):\n",
    "    ind = np.unravel_index(cv_error_lamda_K.argmin(), cv_error_lamda_K.shape)\n",
    "    print('---- best choice: lambda={} and K={}'.format(grid_lamda[ind[0]], grid_K[ind[1]]))\n",
    "    return grid_lamda[ind[0]], grid_K[ind[1]]"
   ]
  },
  {
   "cell_type": "code",
   "execution_count": 9,
   "metadata": {
    "collapsed": false
   },
   "outputs": [
    {
     "ename": "NameError",
     "evalue": "name 'perf' is not defined",
     "output_type": "error",
     "traceback": [
      "\u001b[0;31m---------------------------------------------------------------------------\u001b[0m",
      "\u001b[0;31mNameError\u001b[0m                                 Traceback (most recent call last)",
      "\u001b[0;32m<ipython-input-9-09f1c5431009>\u001b[0m in \u001b[0;36m<module>\u001b[0;34m()\u001b[0m\n\u001b[0;32m----> 1\u001b[0;31m \u001b[0mlamda\u001b[0m\u001b[0;34m,\u001b[0m \u001b[0mK\u001b[0m \u001b[0;34m=\u001b[0m \u001b[0mind_K_lamda\u001b[0m\u001b[0;34m(\u001b[0m\u001b[0mperf\u001b[0m\u001b[0;34m,\u001b[0m \u001b[0mgrid_K\u001b[0m\u001b[0;34m,\u001b[0m \u001b[0mgrid_lamda\u001b[0m\u001b[0;34m)\u001b[0m\u001b[0;34m\u001b[0m\u001b[0m\n\u001b[0m",
      "\u001b[0;31mNameError\u001b[0m: name 'perf' is not defined"
     ]
    }
   ],
   "source": [
    "lamda, K = ind_K_lamda(perf, grid_K, grid_lamda)"
   ]
  },
  {
   "cell_type": "markdown",
   "metadata": {},
   "source": [
    "## A case with outliers"
   ]
  },
  {
   "cell_type": "code",
   "execution_count": 10,
   "metadata": {
    "collapsed": true
   },
   "outputs": [],
   "source": [
    "n_features, sparsity = 200, 10\n",
    "n_samples, n_outliers, n_heavy_tail = 100, 10, 10\n",
    "N = n_samples + n_outliers + n_heavy_tail\n",
    "sigma = 1\n",
    "\n",
    "beta_0 = MOM_LASSO.beta_func(n_features, sparsity)\n",
    "y1, X1 = MOM_LASSO.data1(n_samples, beta_0,  sigma)\n",
    "y2, X2 = MOM_LASSO.data2(n_outliers, n_features, type_outliers = 2, beta = 1, rho=1)\n",
    "y3, X3 = MOM_LASSO.data3(n_heavy_tail, beta_0, deg = 2)\n",
    "y, X = MOM_LASSO.data_merge(y1, X1, y2, X2)\n",
    "y, X = MOM_LASSO.data_merge(y, X, y3, X3)\n",
    "\n",
    "beta_0 = np.matrix(beta_0).T\n",
    "y = np.matrix(y).T\n",
    "X = np.matrix(X)"
   ]
  },
  {
   "cell_type": "code",
   "execution_count": 13,
   "metadata": {
    "collapsed": false
   },
   "outputs": [
    {
     "name": "stdout",
     "output_type": "stream",
     "text": [
      "----------lamda = 0.0 --------K = 1\n",
      "-----cv_error_lamda_K = 1599.8807514174496\n",
      "----------lamda = 0.0 --------K = 5\n",
      "-----cv_error_lamda_K = 1414.343750333626\n",
      "----------lamda = 0.0 --------K = 9\n",
      "-----cv_error_lamda_K = 1932.586471420413\n",
      "----------lamda = 0.0 --------K = 13\n",
      "-----cv_error_lamda_K = 2346.142825568842\n",
      "----------lamda = 0.0 --------K = 17\n",
      "-----cv_error_lamda_K = 2212.8143258507093\n",
      "----------lamda = 0.0 --------K = 21\n",
      "-----cv_error_lamda_K = 2301.5958439323485\n",
      "----------lamda = 0.09128709291752768 --------K = 1\n",
      "-----cv_error_lamda_K = 1600.6156613063863\n",
      "----------lamda = 0.09128709291752768 --------K = 5\n",
      "-----cv_error_lamda_K = 1413.4358164647667\n",
      "----------lamda = 0.09128709291752768 --------K = 9\n",
      "-----cv_error_lamda_K = 1936.5850875261738\n",
      "----------lamda = 0.09128709291752768 --------K = 13\n",
      "-----cv_error_lamda_K = 2260.6529554304016\n",
      "----------lamda = 0.09128709291752768 --------K = 17\n",
      "-----cv_error_lamda_K = 2213.3526818217897\n",
      "----------lamda = 0.09128709291752768 --------K = 21\n",
      "-----cv_error_lamda_K = 2215.6856548928345\n",
      "----------lamda = 0.18257418583505536 --------K = 1\n",
      "-----cv_error_lamda_K = 1600.68480516412\n",
      "----------lamda = 0.18257418583505536 --------K = 5\n",
      "-----cv_error_lamda_K = 1412.152689500434\n",
      "----------lamda = 0.18257418583505536 --------K = 9\n",
      "-----cv_error_lamda_K = 2484.793610216687\n",
      "----------lamda = 0.18257418583505536 --------K = 13\n",
      "-----cv_error_lamda_K = 2535.746256280004\n",
      "----------lamda = 0.18257418583505536 --------K = 17\n",
      "-----cv_error_lamda_K = 2371.60309623533\n",
      "----------lamda = 0.18257418583505536 --------K = 21\n",
      "-----cv_error_lamda_K = 2338.054525696962\n",
      "----------lamda = 0.27386127875258304 --------K = 1\n",
      "-----cv_error_lamda_K = 1600.611633293656\n",
      "----------lamda = 0.27386127875258304 --------K = 5\n",
      "-----cv_error_lamda_K = 1407.3953111242495\n",
      "----------lamda = 0.27386127875258304 --------K = 9\n",
      "-----cv_error_lamda_K = 2896.6323329642296\n",
      "----------lamda = 0.27386127875258304 --------K = 13\n",
      "-----cv_error_lamda_K = 2965.172345689789\n",
      "----------lamda = 0.27386127875258304 --------K = 17\n",
      "-----cv_error_lamda_K = 2811.488296158406\n",
      "----------lamda = 0.27386127875258304 --------K = 21\n",
      "-----cv_error_lamda_K = 2772.7163150983047\n",
      "----------lamda = 0.3651483716701107 --------K = 1\n",
      "-----cv_error_lamda_K = 1600.3432663924364\n",
      "----------lamda = 0.3651483716701107 --------K = 5\n",
      "-----cv_error_lamda_K = 1408.6236267401011\n",
      "----------lamda = 0.3651483716701107 --------K = 9\n",
      "-----cv_error_lamda_K = 2947.388759588098\n",
      "----------lamda = 0.3651483716701107 --------K = 13\n",
      "-----cv_error_lamda_K = 3397.307400474706\n",
      "----------lamda = 0.3651483716701107 --------K = 17\n",
      "-----cv_error_lamda_K = 2965.5202836192284\n",
      "----------lamda = 0.3651483716701107 --------K = 21\n",
      "-----cv_error_lamda_K = 3219.4356702679424\n",
      "----------lamda = 0.45643546458763845 --------K = 1\n",
      "-----cv_error_lamda_K = 1604.907892389371\n",
      "----------lamda = 0.45643546458763845 --------K = 5\n",
      "-----cv_error_lamda_K = 1409.8730806147314\n",
      "----------lamda = 0.45643546458763845 --------K = 9\n",
      "-----cv_error_lamda_K = 3400.225374606349\n",
      "----------lamda = 0.45643546458763845 --------K = 13\n",
      "-----cv_error_lamda_K = 1940.6213184333374\n",
      "----------lamda = 0.45643546458763845 --------K = 17\n",
      "-----cv_error_lamda_K = 3733.2080030671723\n",
      "----------lamda = 0.45643546458763845 --------K = 21\n",
      "-----cv_error_lamda_K = 3682.3105884995803\n",
      "----------lamda = 0.5477225575051661 --------K = 1\n",
      "-----cv_error_lamda_K = 1609.5616708015673\n",
      "----------lamda = 0.5477225575051661 --------K = 5\n",
      "-----cv_error_lamda_K = 1410.9351946556362\n",
      "----------lamda = 0.5477225575051661 --------K = 9\n",
      "-----cv_error_lamda_K = 2629.4197785629744\n",
      "----------lamda = 0.5477225575051661 --------K = 13\n",
      "-----cv_error_lamda_K = 4297.837273236228\n",
      "----------lamda = 0.5477225575051661 --------K = 17\n",
      "-----cv_error_lamda_K = 4191.706325791444\n",
      "----------lamda = 0.5477225575051661 --------K = 21\n",
      "-----cv_error_lamda_K = 4132.0854524029855\n",
      "----------lamda = 0.6390096504226938 --------K = 1\n",
      "-----cv_error_lamda_K = 1613.7655622258185\n",
      "----------lamda = 0.6390096504226938 --------K = 5\n",
      "-----cv_error_lamda_K = 1411.2178484438698\n",
      "----------lamda = 0.6390096504226938 --------K = 9\n",
      "-----cv_error_lamda_K = 4655.088975157124\n",
      "----------lamda = 0.6390096504226938 --------K = 13\n",
      "-----cv_error_lamda_K = 4404.653773447543\n",
      "----------lamda = 0.6390096504226938 --------K = 17\n",
      "-----cv_error_lamda_K = 4663.389403223451\n",
      "----------lamda = 0.6390096504226938 --------K = 21\n",
      "-----cv_error_lamda_K = 4606.688785529664\n",
      "----------lamda = 0.7302967433402214 --------K = 1\n",
      "-----cv_error_lamda_K = 1616.085059155654\n",
      "----------lamda = 0.7302967433402214 --------K = 5\n",
      "-----cv_error_lamda_K = 1411.496588894542\n",
      "----------lamda = 0.7302967433402214 --------K = 9\n",
      "-----cv_error_lamda_K = 5112.882558294219\n",
      "----------lamda = 0.7302967433402214 --------K = 13\n",
      "-----cv_error_lamda_K = 5203.784373755541\n",
      "----------lamda = 0.7302967433402214 --------K = 17\n",
      "-----cv_error_lamda_K = 5126.256807746814\n",
      "----------lamda = 0.7302967433402214 --------K = 21\n",
      "-----cv_error_lamda_K = 5070.086416310474\n",
      "----------lamda = 0.8215838362577491 --------K = 1\n",
      "-----cv_error_lamda_K = 1618.4329732540725\n",
      "----------lamda = 0.8215838362577491 --------K = 5\n",
      "-----cv_error_lamda_K = 1411.7776026937206\n",
      "----------lamda = 0.8215838362577491 --------K = 9\n",
      "-----cv_error_lamda_K = 5565.700050371639\n",
      "----------lamda = 0.8215838362577491 --------K = 13\n",
      "-----cv_error_lamda_K = 5674.736729283395\n",
      "----------lamda = 0.8215838362577491 --------K = 17\n",
      "-----cv_error_lamda_K = 5602.297964581884\n",
      "----------lamda = 0.8215838362577491 --------K = 21\n",
      "-----cv_error_lamda_K = 5539.7579676823425\n"
     ]
    }
   ],
   "source": [
    "grid_lamda = np.arange(0, 10, 1)/sqrt(N)\n",
    "grid_K = np.arange(1, int(N/5), 4)\n",
    "max_iter, V, K_prime = 100, 5, 3\n",
    "perf = mom_cv_admm(X, y, beta_0, max_iter, V, K_prime, grid_K, grid_lamda)"
   ]
  },
  {
   "cell_type": "code",
   "execution_count": 90,
   "metadata": {
    "collapsed": false
   },
   "outputs": [
    {
     "data": {
      "image/png": "[encoded data removed]",
      "text/plain": [
       "<matplotlib.figure.Figure at 0x116687908>"
      ]
     },
     "metadata": {},
     "output_type": "display_data"
    }
   ],
   "source": [
    "plt.figure(figsize = (10, 10))\n",
    "K_min, K_max, lamda_min, lamda_max = np.min(grid_K), np.max(grid_K), np.min(grid_lamda), np.max(grid_lamda)\n",
    "fig = plt.imshow(perf, interpolation=\"none\", aspect='auto', origin = 'lower', extent=[K_min, K_max, lamda_min, lamda_max])\n",
    "plt.colorbar()\n",
    "plt.xticks(grid_K)\n",
    "plt.yticks(grid_lamda)\n",
    "#titre = \"Gaussian measurements\"\n",
    "#plt.title(titre)\n",
    "plt.ylabel('lambda')\n",
    "plt.xlabel('number of blocks K')\n",
    "titre = 'heatmap_mom_cv_N{}_d{}_s{}_sigma{}_outliers{}.png'.format(N, n_features, sparsity, sigma, n_outliers + n_heavy_tail)\n",
    "plt.title(titre)\n",
    "plt.savefig(titre)"
   ]
  },
  {
   "cell_type": "code",
   "execution_count": 91,
   "metadata": {
    "collapsed": false
   },
   "outputs": [
    {
     "name": "stdout",
     "output_type": "stream",
     "text": [
      "---- best choice: lambda=0.8215838362577491 and K=5\n"
     ]
    }
   ],
   "source": [
    "lamda, K = ind_K_lamda(perf, grid_K, grid_lamda)"
   ]
  },
  {
   "cell_type": "markdown",
   "metadata": {
    "collapsed": true
   },
   "source": [
    "## Optimal choice of lamda for the LASSO using V-fold CV\n",
    "To make fair comparison between the LASSO (obtained via ADMM) and the MOM-LASSO (via MOM-ADMM), we also need to choose the regularization parameter $\\lambda$ in the LASSO via a data-dependent criteria. We use here the classical V-fold CV approach."
   ]
  },
  {
   "cell_type": "code",
   "execution_count": 11,
   "metadata": {
    "collapsed": true
   },
   "outputs": [],
   "source": [
    "def cv_admm(X, y, beta_0, max_iter, V, grid_lamda):\n",
    "    N = y.size\n",
    "    cv_error_lamda = []\n",
    "    for lamda in grid_lamda:\n",
    "        print('--------------------------------lamda = {}'.format(lamda))\n",
    "        cv_error = []\n",
    "        for ind_split in np.arange(0, V):\n",
    "            X_train, y_train, X_test, y_test = cv_data(X, y, V, ind_split)\n",
    "            _, _, x_admm = MOM_LASSO.ADMM(X_train, y_train, beta_0, max_iter, lamda)\n",
    "            r = X_test*x_admm - y_test\n",
    "            #print('------r = {}'.format(r))\n",
    "            cv_error.append(np.linalg.norm(r))\n",
    "        cv_error_lamda.append(np.mean(cv_error))\n",
    "        print('-----cv_error_lamda = {}'.format(np.mean(cv_error_lamda)))\n",
    "    return np.array(cv_error_lamda)"
   ]
  },
  {
   "cell_type": "code",
   "execution_count": 12,
   "metadata": {
    "collapsed": false
   },
   "outputs": [],
   "source": [
    "N, n_features, sparsity, sigma = 100, 30, 10, 1\n",
    "np.random.seed(50)\n",
    "\n",
    "beta_0 = MOM_LASSO.beta_func(n_features, sparsity)\n",
    "y, X = MOM_LASSO.data1(N, beta_0, sigma)\n",
    "\n",
    "beta_0 = np.matrix(beta_0).T\n",
    "y = np.matrix(y).T\n",
    "X = np.matrix(X)"
   ]
  },
  {
   "cell_type": "code",
   "execution_count": 48,
   "metadata": {
    "collapsed": false
   },
   "outputs": [
    {
     "name": "stdout",
     "output_type": "stream",
     "text": [
      "--------------------------------lamda = 0.0\n",
      "Lauching ADMM solver...\n",
      "iter= 0, estimation error ADMM = 22.373847\n",
      "iter= 50, estimation error ADMM = 1.117639\n",
      "Lauching ADMM solver...\n",
      "iter= 0, estimation error ADMM = 22.373847\n",
      "iter= 50, estimation error ADMM = 0.815432\n",
      "Lauching ADMM solver...\n",
      "iter= 0, estimation error ADMM = 22.373847\n",
      "iter= 50, estimation error ADMM = 0.851309\n",
      "Lauching ADMM solver...\n",
      "iter= 0, estimation error ADMM = 22.373847\n",
      "iter= 50, estimation error ADMM = 0.763563\n",
      "Lauching ADMM solver...\n",
      "iter= 0, estimation error ADMM = 22.373847\n",
      "iter= 50, estimation error ADMM = 0.713920\n",
      "-----cv_error_lamda = 4.530031608202959\n",
      "--------------------------------lamda = 1.0\n",
      "Lauching ADMM solver...\n",
      "iter= 0, estimation error ADMM = 22.373847\n",
      "iter= 50, estimation error ADMM = 0.952797\n",
      "Lauching ADMM solver...\n",
      "iter= 0, estimation error ADMM = 22.373847\n",
      "iter= 50, estimation error ADMM = 0.683447\n",
      "Lauching ADMM solver...\n",
      "iter= 0, estimation error ADMM = 22.373847\n",
      "iter= 50, estimation error ADMM = 0.765369\n",
      "Lauching ADMM solver...\n",
      "iter= 0, estimation error ADMM = 22.373847\n",
      "iter= 50, estimation error ADMM = 0.639571\n",
      "Lauching ADMM solver...\n",
      "iter= 0, estimation error ADMM = 22.373847\n",
      "iter= 50, estimation error ADMM = 0.643845\n",
      "-----cv_error_lamda = 4.435929260237514\n",
      "--------------------------------lamda = 2.0\n",
      "Lauching ADMM solver...\n",
      "iter= 0, estimation error ADMM = 22.373847\n",
      "iter= 50, estimation error ADMM = 0.835390\n",
      "Lauching ADMM solver...\n",
      "iter= 0, estimation error ADMM = 22.373847\n",
      "iter= 50, estimation error ADMM = 0.595004\n",
      "Lauching ADMM solver...\n",
      "iter= 0, estimation error ADMM = 22.373847\n",
      "iter= 50, estimation error ADMM = 0.703832\n",
      "Lauching ADMM solver...\n",
      "iter= 0, estimation error ADMM = 22.373847\n",
      "iter= 50, estimation error ADMM = 0.582918\n",
      "Lauching ADMM solver...\n",
      "iter= 0, estimation error ADMM = 22.373847\n",
      "iter= 50, estimation error ADMM = 0.611101\n",
      "-----cv_error_lamda = 4.386946812017942\n",
      "--------------------------------lamda = 3.0\n",
      "Lauching ADMM solver...\n",
      "iter= 0, estimation error ADMM = 22.373847\n",
      "iter= 50, estimation error ADMM = 0.756575\n",
      "Lauching ADMM solver...\n",
      "iter= 0, estimation error ADMM = 22.373847\n",
      "iter= 50, estimation error ADMM = 0.557002\n",
      "Lauching ADMM solver...\n",
      "iter= 0, estimation error ADMM = 22.373847\n",
      "iter= 50, estimation error ADMM = 0.667295\n",
      "Lauching ADMM solver...\n",
      "iter= 0, estimation error ADMM = 22.373847\n",
      "iter= 50, estimation error ADMM = 0.566087\n",
      "Lauching ADMM solver...\n",
      "iter= 0, estimation error ADMM = 22.373847\n",
      "iter= 50, estimation error ADMM = 0.611305\n",
      "-----cv_error_lamda = 4.35709800611499\n",
      "--------------------------------lamda = 4.0\n",
      "Lauching ADMM solver...\n",
      "iter= 0, estimation error ADMM = 22.373847\n",
      "iter= 50, estimation error ADMM = 0.704830\n",
      "Lauching ADMM solver...\n",
      "iter= 0, estimation error ADMM = 22.373847\n",
      "iter= 50, estimation error ADMM = 0.542915\n",
      "Lauching ADMM solver...\n",
      "iter= 0, estimation error ADMM = 22.373847\n",
      "iter= 50, estimation error ADMM = 0.654363\n",
      "Lauching ADMM solver...\n",
      "iter= 0, estimation error ADMM = 22.373847\n",
      "iter= 50, estimation error ADMM = 0.568966\n",
      "Lauching ADMM solver...\n",
      "iter= 0, estimation error ADMM = 22.373847\n",
      "iter= 50, estimation error ADMM = 0.624814\n",
      "-----cv_error_lamda = 4.336994151983014\n",
      "--------------------------------lamda = 5.0\n",
      "Lauching ADMM solver...\n",
      "iter= 0, estimation error ADMM = 22.373847\n",
      "iter= 50, estimation error ADMM = 0.678283\n",
      "Lauching ADMM solver...\n",
      "iter= 0, estimation error ADMM = 22.373847\n",
      "iter= 50, estimation error ADMM = 0.547942\n",
      "Lauching ADMM solver...\n",
      "iter= 0, estimation error ADMM = 22.373847\n",
      "iter= 50, estimation error ADMM = 0.655867\n",
      "Lauching ADMM solver...\n",
      "iter= 0, estimation error ADMM = 22.373847\n",
      "iter= 50, estimation error ADMM = 0.589450\n",
      "Lauching ADMM solver...\n",
      "iter= 0, estimation error ADMM = 22.373847\n",
      "iter= 50, estimation error ADMM = 0.647915\n",
      "-----cv_error_lamda = 4.3291352265296945\n",
      "--------------------------------lamda = 6.0\n",
      "Lauching ADMM solver...\n",
      "iter= 0, estimation error ADMM = 22.373847\n",
      "iter= 50, estimation error ADMM = 0.667092\n",
      "Lauching ADMM solver...\n",
      "iter= 0, estimation error ADMM = 22.373847\n",
      "iter= 50, estimation error ADMM = 0.566299\n",
      "Lauching ADMM solver...\n",
      "iter= 0, estimation error ADMM = 22.373847\n",
      "iter= 50, estimation error ADMM = 0.672332\n",
      "Lauching ADMM solver...\n",
      "iter= 0, estimation error ADMM = 22.373847\n",
      "iter= 50, estimation error ADMM = 0.615955\n",
      "Lauching ADMM solver...\n",
      "iter= 0, estimation error ADMM = 22.373847\n",
      "iter= 50, estimation error ADMM = 0.675980\n",
      "-----cv_error_lamda = 4.33110447358313\n",
      "--------------------------------lamda = 7.0\n",
      "Lauching ADMM solver...\n",
      "iter= 0, estimation error ADMM = 22.373847\n",
      "iter= 50, estimation error ADMM = 0.671688\n",
      "Lauching ADMM solver...\n",
      "iter= 0, estimation error ADMM = 22.373847\n",
      "iter= 50, estimation error ADMM = 0.587492\n",
      "Lauching ADMM solver...\n",
      "iter= 0, estimation error ADMM = 22.373847\n",
      "iter= 50, estimation error ADMM = 0.694987\n",
      "Lauching ADMM solver...\n",
      "iter= 0, estimation error ADMM = 22.373847\n",
      "iter= 50, estimation error ADMM = 0.647483\n",
      "Lauching ADMM solver...\n",
      "iter= 0, estimation error ADMM = 22.373847\n",
      "iter= 50, estimation error ADMM = 0.708921\n",
      "-----cv_error_lamda = 4.342784409982259\n",
      "--------------------------------lamda = 8.0\n",
      "Lauching ADMM solver...\n",
      "iter= 0, estimation error ADMM = 22.373847\n",
      "iter= 50, estimation error ADMM = 0.682583\n",
      "Lauching ADMM solver...\n",
      "iter= 0, estimation error ADMM = 22.373847\n",
      "iter= 50, estimation error ADMM = 0.616058\n",
      "Lauching ADMM solver...\n",
      "iter= 0, estimation error ADMM = 22.373847\n",
      "iter= 50, estimation error ADMM = 0.718684\n",
      "Lauching ADMM solver...\n",
      "iter= 0, estimation error ADMM = 22.373847\n",
      "iter= 50, estimation error ADMM = 0.685534\n",
      "Lauching ADMM solver...\n",
      "iter= 0, estimation error ADMM = 22.373847\n",
      "iter= 50, estimation error ADMM = 0.738773\n",
      "-----cv_error_lamda = 4.360939963440714\n",
      "--------------------------------lamda = 9.0\n",
      "Lauching ADMM solver...\n",
      "iter= 0, estimation error ADMM = 22.373847\n",
      "iter= 50, estimation error ADMM = 0.698975\n",
      "Lauching ADMM solver...\n",
      "iter= 0, estimation error ADMM = 22.373847\n",
      "iter= 50, estimation error ADMM = 0.649285\n",
      "Lauching ADMM solver...\n",
      "iter= 0, estimation error ADMM = 22.373847\n",
      "iter= 50, estimation error ADMM = 0.739305\n",
      "Lauching ADMM solver...\n",
      "iter= 0, estimation error ADMM = 22.373847\n",
      "iter= 50, estimation error ADMM = 0.728360\n",
      "Lauching ADMM solver...\n",
      "iter= 0, estimation error ADMM = 22.373847\n",
      "iter= 50, estimation error ADMM = 0.769484\n",
      "-----cv_error_lamda = 4.38322448659158\n"
     ]
    }
   ],
   "source": [
    "grid_lamda = np.arange(0, 100, 10)/sqrt(N)\n",
    "max_iter, V, = 100, 5\n",
    "perf = cv_admm(X, y, beta_0, max_iter, V, grid_lamda)"
   ]
  },
  {
   "cell_type": "code",
   "execution_count": 55,
   "metadata": {
    "collapsed": false
   },
   "outputs": [
    {
     "data": {
      "image/png": "[encoded data removed]",
      "text/plain": [
       "<matplotlib.figure.Figure at 0x114cd8240>"
      ]
     },
     "metadata": {},
     "output_type": "display_data"
    }
   ],
   "source": [
    "plt.plot(grid_lamda, perf)\n",
    "titre = 'CV_N{}_d{}_s{}_sigma{}'.format(N, n_features, sparsity, sigma)\n",
    "plt.title(titre)\n",
    "plt.xticks(grid_lamda)\n",
    "plt.xlabel('lambda')\n",
    "plt.savefig(titre)"
   ]
  },
  {
   "cell_type": "code",
   "execution_count": 51,
   "metadata": {
    "collapsed": true
   },
   "outputs": [],
   "source": [
    "def ind_lamda(cv_error_lamda, grid_lamda):\n",
    "    ind = cv_error_lamda.argmin()\n",
    "    print('---- best choice: lambda={}'.format(grid_lamda[ind]))\n",
    "    return grid_lamda[ind]"
   ]
  },
  {
   "cell_type": "code",
   "execution_count": 53,
   "metadata": {
    "collapsed": false
   },
   "outputs": [
    {
     "name": "stdout",
     "output_type": "stream",
     "text": [
      "---- best choice: lambda=4.0\n"
     ]
    }
   ],
   "source": [
    "lamda = ind_lamda(perf, grid_lamda)"
   ]
  },
  {
   "cell_type": "code",
   "execution_count": null,
   "metadata": {
    "collapsed": true
   },
   "outputs": [],
   "source": []
  }
 ],
 "metadata": {
  "kernelspec": {
   "display_name": "Python 3",
   "language": "python",
   "name": "python3"
  },
  "language_info": {
   "codemirror_mode": {
    "name": "ipython",
    "version": 3
   },
   "file_extension": ".py",
   "mimetype": "text/x-python",
   "name": "python",
   "nbconvert_exporter": "python",
   "pygments_lexer": "ipython3",
   "version": "3.5.3"
  }
 },
 "nbformat": 4,
 "nbformat_minor": 0
}
