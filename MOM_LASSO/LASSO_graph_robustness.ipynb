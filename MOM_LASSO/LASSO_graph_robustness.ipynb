{
 "cells": [
  {
   "cell_type": "code",
   "execution_count": 1,
   "metadata": {
    "collapsed": true
   },
   "outputs": [],
   "source": [
    "import numpy as np\n",
    "from numpy.random import multivariate_normal, randn\n",
    "from numpy.linalg import norm\n",
    "from numpy import sqrt\n",
    "from scipy.linalg import svd\n",
    "from scipy.linalg.special_matrices import toeplitz\n",
    "from scipy import linalg\n",
    "import matplotlib.pylab as plt\n",
    "import time\n",
    "from sklearn.utils import shuffle\n",
    "\n",
    "np.set_printoptions(precision=2)\n",
    "%matplotlib inline"
   ]
  },
  {
   "cell_type": "code",
   "execution_count": 2,
   "metadata": {
    "collapsed": true
   },
   "outputs": [],
   "source": [
    "def beta_func(n_features, sparsity):\n",
    "    idx = np.arange(n_features)\n",
    "    beta = (n_features/10)*(-1) ** (abs(idx - 1)) * np.exp(-idx / 10.)\n",
    "    sel = np.random.permutation(n_features)\n",
    "    sel1 = sel[0:int(sparsity/4)]\n",
    "    beta[sel1] = 10\n",
    "    sel11 = sel[int(sparsity/4):int(sparsity/2)]\n",
    "    beta[sel11] = -10\n",
    "    sel0 = sel[sparsity:]\n",
    "    beta[sel0] = 0.\n",
    "    return beta"
   ]
  },
  {
   "cell_type": "code",
   "execution_count": 3,
   "metadata": {
    "collapsed": true
   },
   "outputs": [],
   "source": [
    "def data1(n_samples, beta, sigma):\n",
    "    n_features = beta.size\n",
    "    cov = np.identity(n_features)\n",
    "    X = multivariate_normal(np.zeros(n_features), cov, size=n_samples)\n",
    "    Y = X.dot(beta) + sigma * randn(n_samples)\n",
    "    return Y, X\n",
    "\n",
    "def data2(n_outliers, n_features, type_outliers = 1, beta = 1, rho=1):\n",
    "    if type_outliers == 1:\n",
    "        Y = np.ones(n_outliers)\n",
    "        X = np.ones((n_outliers, n_features))\n",
    "    elif type_outliers == 2:\n",
    "        Y = 10000*np.ones(n_outliers)\n",
    "        X = np.ones((n_outliers, n_features))\n",
    "    elif type_outliers == 3:\n",
    "        Y = np.random.randint(2, size = n_outliers)\n",
    "        X = np.random.rand(n_outliers, n_features)\n",
    "    else:\n",
    "        cov = np.identity(n_features)\n",
    "        X = feature_mat(n_features, n_outliers, rho)\n",
    "        Y = X.dot(beta) + sigma * randn(n_samples)\n",
    "    return Y, X\n",
    "        \n",
    "def data3(n_heavy_tail, beta, deg = 2):\n",
    "    n_features = beta.size\n",
    "    cov = np.identity(n_features)\n",
    "    X = multivariate_normal(np.zeros(n_features), cov, size=n_heavy_tail)\n",
    "    Y = X.dot(beta) + np.random.standard_t(deg, size=n_heavy_tail)\n",
    "    return Y, X\n",
    "\n",
    "def data_merge_without_shuffle(Y1, X1, Y2, X2):\n",
    "    Y = np.concatenate((Y1, Y2), axis=0)\n",
    "    X = np.concatenate((X1, X2), axis=0)\n",
    "    return Y, X"
   ]
  },
  {
   "cell_type": "code",
   "execution_count": 4,
   "metadata": {
    "collapsed": true
   },
   "outputs": [],
   "source": [
    "## Define the objective, subgradient oracle, proximal operator, and gradient for smoothed function (Huber)  \n",
    "def obj(X, y, w, lamda):\n",
    "    r = X*w-y;\n",
    "    return np.sum(np.multiply(r,r))/2 +  lamda * np.sum(np.abs(w))\n",
    "\n",
    "def subgrad(X, y, w, lamda):\n",
    "    return  X.T*(X*w-y) + lamda*np.sign(w) \n",
    "\n",
    "def f_grad(X, y, w):\n",
    "    return  X.T*(X*w-y) \n",
    "\n",
    "def soft_threshod(w, mu):\n",
    "    return np.multiply(np.sign(w), np.maximum(np.abs(w)- mu,0))  \n",
    "\n",
    "def smooth_grad(X, y, w, mu, lamda):\n",
    "    temp = np.multiply((np.abs(w)<=mu),w/mu) + np.multiply((np.abs(w)>mu),np.sign(w)) \n",
    "    return X.T*(X*w-y) + lamda * temp"
   ]
  },
  {
   "cell_type": "code",
   "execution_count": 5,
   "metadata": {
    "collapsed": true
   },
   "outputs": [],
   "source": [
    "## ADMM\n",
    "def ADMM(X_init, y_init, beta_0, max_iter):\n",
    "    N, dim =  X_init.shape[0], X_init.shape[1]\n",
    "    error_ADMM = []\n",
    "    rho = 5\n",
    "    #print(\"Lauching ADMM solver...\")\n",
    "    for n in np.arange(10, N):\n",
    "        X, y = X_init[:n], y_init[:n]\n",
    "        w = np.matrix([0.0]*dim).T\n",
    "        z, u = w, w\n",
    "        lamda = 1/sqrt(N)\n",
    "        for t in range(0, max_iter):\n",
    "            #if (t%100==0):\n",
    "            #    print('iter= {}, estimation error ADMM = {:3f}'.format(t, norm(beta_0 - w)))\n",
    "            w = np.linalg.solve((X.T)*X + rho*np.identity(dim), X.T*y + rho*z - u)\n",
    "            z = soft_threshod(w + u/rho, lamda/rho)\n",
    "            u = u + rho * (w-z)\n",
    "        error_ADMM.append(norm(beta_0 - w))\n",
    "    return error_ADMM"
   ]
  },
  {
   "cell_type": "code",
   "execution_count": 6,
   "metadata": {
    "collapsed": true
   },
   "outputs": [],
   "source": [
    "N, n_features, sparsity, sigma = 100, 30, 10, 0\n",
    "np.random.seed(50)\n",
    "\n",
    "beta_0 = beta_func(n_features, sparsity)\n",
    "y, X = data1(N, beta_0, sigma)\n",
    "\n",
    "beta_0 = np.matrix(beta_0).T\n",
    "y = np.matrix(y).T\n",
    "X = np.matrix(X)"
   ]
  },
  {
   "cell_type": "code",
   "execution_count": 7,
   "metadata": {
    "collapsed": false
   },
   "outputs": [],
   "source": [
    "max_iter = 100 \n",
    "error_ADMM = ADMM(X, y, beta_0, max_iter)"
   ]
  },
  {
   "cell_type": "code",
   "execution_count": 8,
   "metadata": {
    "collapsed": false
   },
   "outputs": [
    {
     "data": {
      "text/plain": [
       "<matplotlib.text.Text at 0x1154daf98>"
      ]
     },
     "execution_count": 8,
     "metadata": {},
     "output_type": "execute_result"
    },
    {
     "data": {
      "image/png": "[encoded data removed]",
      "text/plain": [
       "<matplotlib.figure.Figure at 0x115432630>"
      ]
     },
     "metadata": {},
     "output_type": "display_data"
    }
   ],
   "source": [
    "t = np.arange(10, N)\n",
    "plt.figure(figsize = (15, 5))\n",
    "plt.plot(t, np.array(error_ADMM), 'r', linewidth = 2, label = 'ADMM LASSO')\n",
    "plt.legend(prop={'size':12})\n",
    "plt.xlabel('Number of observations')\n",
    "plt.ylabel('Error')"
   ]
  },
  {
   "cell_type": "markdown",
   "metadata": {},
   "source": [
    "## We add one outlier (y=10000, X=ones) at observation number 1000"
   ]
  },
  {
   "cell_type": "code",
   "execution_count": 9,
   "metadata": {
    "collapsed": false
   },
   "outputs": [],
   "source": [
    "N, n_features, sparsity, sigma = 100, 30, 10, 0\n",
    "np.random.seed(50)\n",
    "\n",
    "beta_0 = beta_func(n_features, sparsity)\n",
    "y1, X1 = data1(N, beta_0,  sigma)\n",
    "y2, X2 = data2(1, n_features, type_outliers = 2)\n",
    "y3, X3 = data1(N, beta_0,  sigma)\n",
    "y_init, X_init = data_merge_without_shuffle(y1, X1, y2, X2)\n",
    "y_init, X_init = data_merge_without_shuffle(y_init, X_init, y3, X3)\n",
    "\n",
    "beta_0 = np.matrix(beta_0).T\n",
    "y_init = np.matrix(y_init).T\n",
    "X_init = np.matrix(X_init)"
   ]
  },
  {
   "cell_type": "code",
   "execution_count": null,
   "metadata": {
    "collapsed": true
   },
   "outputs": [],
   "source": []
  },
  {
   "cell_type": "code",
   "execution_count": 10,
   "metadata": {
    "collapsed": false
   },
   "outputs": [],
   "source": [
    "max_iter = 100 \n",
    "error_ADMM = ADMM(X_init, y_init, beta_0, max_iter)"
   ]
  },
  {
   "cell_type": "code",
   "execution_count": 18,
   "metadata": {
    "collapsed": false
   },
   "outputs": [
    {
     "data": {
      "image/png": "[encoded data removed]",
      "text/plain": [
       "<matplotlib.figure.Figure at 0x1163be0f0>"
      ]
     },
     "metadata": {},
     "output_type": "display_data"
    }
   ],
   "source": [
    "plt.figure(figsize = (10, 6.23))\n",
    "t = np.arange(10, 2*N+1)\n",
    "\n",
    "plt.plot(t, np.array(error_ADMM), 'b', linewidth = 2, label = 'LASSO')\n",
    "plt.legend(prop={'size':12})\n",
    "plt.xlabel('Number of observations')\n",
    "plt.ylabel('quadratic error')\n",
    "filename = 'lasso_non_robust_N{}_d{}_s{}_sigma{}.png'.format(2*N+1, n_features, sparsity, sigma)\n",
    "plt.savefig(filename)"
   ]
  },
  {
   "cell_type": "code",
   "execution_count": null,
   "metadata": {
    "collapsed": true
   },
   "outputs": [],
   "source": []
  }
 ],
 "metadata": {
  "kernelspec": {
   "display_name": "Python 3",
   "language": "python",
   "name": "python3"
  },
  "language_info": {
   "codemirror_mode": {
    "name": "ipython",
    "version": 3
   },
   "file_extension": ".py",
   "mimetype": "text/x-python",
   "name": "python",
   "nbconvert_exporter": "python",
   "pygments_lexer": "ipython3",
   "version": "3.5.3"
  }
 },
 "nbformat": 4,
 "nbformat_minor": 0
}
